{
 "cells": [
  {
   "cell_type": "code",
   "execution_count": 48,
   "id": "initial_id",
   "metadata": {
    "collapsed": true,
    "ExecuteTime": {
     "end_time": "2023-10-18T22:35:51.443556Z",
     "start_time": "2023-10-18T22:35:51.423860Z"
    }
   },
   "outputs": [
    {
     "data": {
      "text/plain": "<module 'src.interpolation' from '/Users/alfred/Documents/rotations/src/interpolation.py'>"
     },
     "execution_count": 48,
     "metadata": {},
     "output_type": "execute_result"
    }
   ],
   "source": [
    "import numpy as np\n",
    "import pygame\n",
    "import src.simulation as sim\n",
    "import src.transformations as t\n",
    "import src.quaternion as q\n",
    "import src.interpolation as i\n",
    "import importlib\n",
    "\n",
    "importlib.reload(t)\n",
    "importlib.reload(sim)\n",
    "importlib.reload(q)\n",
    "importlib.reload(i)\n"
   ]
  },
  {
   "cell_type": "markdown",
   "source": [
    "## Settings"
   ],
   "metadata": {
    "collapsed": false
   },
   "id": "5464b4033182e0f4"
  },
  {
   "cell_type": "code",
   "execution_count": 49,
   "outputs": [],
   "source": [
    "screen_width = 800\n",
    "screen_height = 800\n",
    "center = np.array([300., 300., 300.])\n",
    "camera_location = np.array([400., 400., -100.])\n",
    "vertices, faces = sim.init_cuboid(center, 25, 25, 25)"
   ],
   "metadata": {
    "collapsed": false,
    "ExecuteTime": {
     "end_time": "2023-10-18T22:35:52.071239Z",
     "start_time": "2023-10-18T22:35:52.052924Z"
    }
   },
   "id": "58327dffd59605c0"
  },
  {
   "cell_type": "code",
   "execution_count": 50,
   "outputs": [
    {
     "data": {
      "text/plain": "(array([[nan, nan, nan, nan],\n        [nan, nan, nan, nan]]),\n array([[nan, nan, nan],\n        [nan, nan, nan]]),\n array([[ 25.,  25.,  25.],\n        [ 25.,  25., -25.],\n        [-25.,  25.,  25.],\n        [-25.,  25., -25.],\n        [ 25., -25.,  25.],\n        [ 25., -25., -25.],\n        [-25., -25.,  25.],\n        [-25., -25., -25.]]),\n array([1., 0., 0., 0.]))"
     },
     "execution_count": 50,
     "metadata": {},
     "output_type": "execute_result"
    }
   ],
   "source": [
    "orientation = np.array([1., 0., 0., 0.])\n",
    "orientation_keyframes = np.full((2, 4), np.nan, dtype=np.float64)\n",
    "center_keyframes = np.full((2, 3), np.nan, dtype=np.float64)\n",
    "reference_vertices = vertices - center\n",
    "\n",
    "orientation_keyframes, center_keyframes, reference_vertices, orientation"
   ],
   "metadata": {
    "collapsed": false,
    "ExecuteTime": {
     "end_time": "2023-10-18T22:35:52.364311Z",
     "start_time": "2023-10-18T22:35:52.351440Z"
    }
   },
   "id": "d1dae9152b670f5e"
  },
  {
   "cell_type": "markdown",
   "source": [
    "## Display First Frame"
   ],
   "metadata": {
    "collapsed": false,
    "ExecuteTime": {
     "end_time": "2023-10-18T02:42:25.807113Z",
     "start_time": "2023-10-18T02:42:25.779138Z"
    }
   },
   "id": "2dc5f39ae3027de6"
  },
  {
   "cell_type": "code",
   "execution_count": 51,
   "outputs": [],
   "source": [
    "pygame.init()\n",
    "\n",
    "screen = pygame.display.set_mode((screen_width, screen_height))\n",
    "pygame.display.set_caption('Quaternion Test')\n",
    "\n",
    "screen.fill((255, 255, 255))\n",
    "\n",
    "sim.draw_wireframe(screen, sim.projection(0, camera_location)(vertices), faces, screen_height)\n",
    "\n",
    "pygame.display.update()"
   ],
   "metadata": {
    "collapsed": false,
    "ExecuteTime": {
     "end_time": "2023-10-18T22:35:53.180633Z",
     "start_time": "2023-10-18T22:35:53.118630Z"
    }
   },
   "id": "e19f35879538a38e"
  },
  {
   "cell_type": "markdown",
   "source": [
    "## Record orientation and center of first keyframe"
   ],
   "metadata": {
    "collapsed": false,
    "ExecuteTime": {
     "end_time": "2023-10-18T02:42:26.829051Z",
     "start_time": "2023-10-18T02:42:26.697140Z"
    }
   },
   "id": "850575cc2f536db6"
  },
  {
   "cell_type": "code",
   "execution_count": 52,
   "outputs": [
    {
     "data": {
      "text/plain": "(array([[ 1.,  0.,  0.,  0.],\n        [nan, nan, nan, nan]]),\n array([[300., 300., 300.],\n        [ nan,  nan,  nan]]))"
     },
     "execution_count": 52,
     "metadata": {},
     "output_type": "execute_result"
    }
   ],
   "source": [
    "orientation_keyframes[0] = orientation\n",
    "center_keyframes[0] = center\n",
    "\n",
    "orientation_keyframes, center_keyframes, "
   ],
   "metadata": {
    "collapsed": false,
    "ExecuteTime": {
     "end_time": "2023-10-18T22:35:54.183416Z",
     "start_time": "2023-10-18T22:35:54.163055Z"
    }
   },
   "id": "861b72006f53c16c"
  },
  {
   "cell_type": "markdown",
   "source": [
    "### Check quaternion of the first frame"
   ],
   "metadata": {
    "collapsed": false
   },
   "id": "f75cef815f412c08"
  },
  {
   "cell_type": "code",
   "execution_count": 53,
   "outputs": [
    {
     "data": {
      "text/plain": "array([[325., 325., 325.],\n       [325., 325., 275.],\n       [275., 325., 325.],\n       [275., 325., 275.],\n       [325., 275., 325.],\n       [325., 275., 275.],\n       [275., 275., 325.],\n       [275., 275., 275.]])"
     },
     "execution_count": 53,
     "metadata": {},
     "output_type": "execute_result"
    }
   ],
   "source": [
    "first_frame_vertices = q.quaternion_to_vector(q.qvq_inverse(orientation_keyframes[0], q.vector_to_quaternion(reference_vertices))) + center_keyframes[0]\n",
    "\n",
    "first_frame_vertices"
   ],
   "metadata": {
    "collapsed": false,
    "ExecuteTime": {
     "end_time": "2023-10-18T22:35:55.406538Z",
     "start_time": "2023-10-18T22:35:55.380637Z"
    }
   },
   "id": "9f98e9d18e0cd7ca"
  },
  {
   "cell_type": "code",
   "execution_count": 54,
   "outputs": [],
   "source": [
    "pygame.init()\n",
    "\n",
    "screen = pygame.display.set_mode((screen_width, screen_height))\n",
    "pygame.display.set_caption('Quaternion Test')\n",
    "\n",
    "screen.fill((255, 255, 255))\n",
    "\n",
    "sim.draw_wireframe(screen, sim.projection(0, camera_location)(first_frame_vertices), faces, screen_height)\n",
    "\n",
    "pygame.display.update()"
   ],
   "metadata": {
    "collapsed": false,
    "ExecuteTime": {
     "end_time": "2023-10-18T22:35:56.314022Z",
     "start_time": "2023-10-18T22:35:56.262312Z"
    }
   },
   "id": "51569004b047bc45"
  },
  {
   "cell_type": "markdown",
   "source": [
    "## Move object & Display"
   ],
   "metadata": {
    "collapsed": false,
    "ExecuteTime": {
     "end_time": "2023-10-18T02:43:17.331182Z",
     "start_time": "2023-10-18T02:43:17.298675Z"
    }
   },
   "id": "865e2c35444ef678"
  },
  {
   "cell_type": "code",
   "execution_count": 55,
   "outputs": [
    {
     "data": {
      "text/plain": "(array([[625.        , 316.05098805, 331.50183777],\n        [625.        , 331.50183777, 283.94901195],\n        [575.        , 316.05098805, 331.50183777],\n        [575.        , 331.50183777, 283.94901195],\n        [625.        , 268.49816223, 316.05098805],\n        [625.        , 283.94901195, 268.49816223],\n        [575.        , 268.49816223, 316.05098805],\n        [575.        , 283.94901195, 268.49816223]]),\n array([600., 300., 300.]),\n array([0.98768834, 0.15643447, 0.        , 0.        ]))"
     },
     "execution_count": 55,
     "metadata": {},
     "output_type": "execute_result"
    }
   ],
   "source": [
    "translation = 300\n",
    "degree = - np.pi / 10\n",
    "t.translation(center, vertices, translation, 0)\n",
    "t.rotation_about_x(center, vertices, degree)\n",
    "orientation = q.quaternion_multiplication(q.rotation_quaternion(degree, np.array([1., 0., 0.])), orientation)\n",
    "\n",
    "vertices, center, orientation"
   ],
   "metadata": {
    "collapsed": false,
    "ExecuteTime": {
     "end_time": "2023-10-18T22:35:58.968269Z",
     "start_time": "2023-10-18T22:35:58.945840Z"
    }
   },
   "id": "377ca165ce426f3b"
  },
  {
   "cell_type": "code",
   "execution_count": 56,
   "outputs": [],
   "source": [
    "pygame.init()\n",
    "\n",
    "screen = pygame.display.set_mode((screen_width, screen_height))\n",
    "pygame.display.set_caption('Quaternion Test')\n",
    "\n",
    "screen.fill((255, 255, 255))\n",
    "\n",
    "sim.draw_wireframe(screen, sim.projection(0, camera_location)(vertices), faces, screen_height)\n",
    "\n",
    "pygame.display.update()"
   ],
   "metadata": {
    "collapsed": false,
    "ExecuteTime": {
     "end_time": "2023-10-18T22:36:02.911550Z",
     "start_time": "2023-10-18T22:36:02.826671Z"
    }
   },
   "id": "f7587df000c67599"
  },
  {
   "cell_type": "markdown",
   "source": [
    "## Record orientation and center of second keyframe"
   ],
   "metadata": {
    "collapsed": false
   },
   "id": "9bd6a6a7e4c0ecfc"
  },
  {
   "cell_type": "code",
   "execution_count": 57,
   "outputs": [
    {
     "data": {
      "text/plain": "(array([[1.        , 0.        , 0.        , 0.        ],\n        [0.98768834, 0.15643447, 0.        , 0.        ]]),\n array([[300., 300., 300.],\n        [600., 300., 300.]]))"
     },
     "execution_count": 57,
     "metadata": {},
     "output_type": "execute_result"
    }
   ],
   "source": [
    "orientation_keyframes[1] = orientation\n",
    "center_keyframes[1] = center\n",
    "\n",
    "orientation_keyframes, center_keyframes"
   ],
   "metadata": {
    "collapsed": false,
    "ExecuteTime": {
     "end_time": "2023-10-18T22:36:06.623761Z",
     "start_time": "2023-10-18T22:36:06.564550Z"
    }
   },
   "id": "f90a645852919c5e"
  },
  {
   "cell_type": "code",
   "execution_count": 58,
   "outputs": [
    {
     "data": {
      "text/plain": "array([[625.        , 316.05098805, 331.50183777],\n       [625.        , 331.50183777, 283.94901195],\n       [575.        , 316.05098805, 331.50183777],\n       [575.        , 331.50183777, 283.94901195],\n       [625.        , 268.49816223, 316.05098805],\n       [625.        , 283.94901195, 268.49816223],\n       [575.        , 268.49816223, 316.05098805],\n       [575.        , 283.94901195, 268.49816223]])"
     },
     "execution_count": 58,
     "metadata": {},
     "output_type": "execute_result"
    }
   ],
   "source": [
    "second_frame_vertices = q.quaternion_to_vector(q.qvq_inverse(orientation_keyframes[1], q.vector_to_quaternion(reference_vertices))) + center_keyframes[1]\n",
    "\n",
    "second_frame_vertices"
   ],
   "metadata": {
    "collapsed": false,
    "ExecuteTime": {
     "end_time": "2023-10-18T22:36:08.682144Z",
     "start_time": "2023-10-18T22:36:08.648252Z"
    }
   },
   "id": "f6afd9b6cd147afd"
  },
  {
   "cell_type": "code",
   "execution_count": 59,
   "outputs": [
    {
     "data": {
      "text/plain": "array([[ True,  True,  True],\n       [ True,  True,  True],\n       [ True,  True,  True],\n       [ True,  True,  True],\n       [ True,  True,  True],\n       [ True,  True,  True],\n       [ True,  True,  True],\n       [ True,  True,  True]])"
     },
     "execution_count": 59,
     "metadata": {},
     "output_type": "execute_result"
    }
   ],
   "source": [
    "second_frame_vertices == vertices"
   ],
   "metadata": {
    "collapsed": false,
    "ExecuteTime": {
     "end_time": "2023-10-18T22:36:24.304145Z",
     "start_time": "2023-10-18T22:36:24.276637Z"
    }
   },
   "id": "be4a9f1e983a21eb"
  },
  {
   "cell_type": "code",
   "execution_count": 60,
   "outputs": [],
   "source": [
    "pygame.init()\n",
    "\n",
    "screen = pygame.display.set_mode((screen_width, screen_height))\n",
    "pygame.display.set_caption('Quaternion Test')\n",
    "\n",
    "screen.fill((255, 255, 255))\n",
    "\n",
    "sim.draw_wireframe(screen, sim.projection(0, camera_location)(second_frame_vertices), faces, screen_height)\n",
    "\n",
    "pygame.display.update()"
   ],
   "metadata": {
    "collapsed": false,
    "ExecuteTime": {
     "end_time": "2023-10-18T22:36:32.939261Z",
     "start_time": "2023-10-18T22:36:32.872917Z"
    }
   },
   "id": "fe41633a5cad24d6"
  },
  {
   "cell_type": "markdown",
   "source": [
    "## Linear Interpolation"
   ],
   "metadata": {
    "collapsed": false
   },
   "id": "4168e047eff09111"
  },
  {
   "cell_type": "code",
   "execution_count": 61,
   "outputs": [
    {
     "data": {
      "text/plain": "(array([[1.        , 0.        , 0.        , 0.        ],\n        [0.99987564, 0.00158015, 0.        , 0.        ],\n        [0.99975128, 0.00316029, 0.        , 0.        ],\n        [0.99962692, 0.00474044, 0.        , 0.        ],\n        [0.99950256, 0.00632058, 0.        , 0.        ],\n        [0.9993782 , 0.00790073, 0.        , 0.        ],\n        [0.99925384, 0.00948088, 0.        , 0.        ],\n        [0.99912948, 0.01106102, 0.        , 0.        ],\n        [0.99900512, 0.01264117, 0.        , 0.        ],\n        [0.99888076, 0.01422132, 0.        , 0.        ],\n        [0.9987564 , 0.01580146, 0.        , 0.        ],\n        [0.99863204, 0.01738161, 0.        , 0.        ],\n        [0.99850768, 0.01896175, 0.        , 0.        ],\n        [0.99838332, 0.0205419 , 0.        , 0.        ],\n        [0.99825896, 0.02212205, 0.        , 0.        ],\n        [0.9981346 , 0.02370219, 0.        , 0.        ],\n        [0.99801024, 0.02528234, 0.        , 0.        ],\n        [0.99788588, 0.02686248, 0.        , 0.        ],\n        [0.99776152, 0.02844263, 0.        , 0.        ],\n        [0.99763716, 0.03002278, 0.        , 0.        ],\n        [0.9975128 , 0.03160292, 0.        , 0.        ],\n        [0.99738844, 0.03318307, 0.        , 0.        ],\n        [0.99726408, 0.03476321, 0.        , 0.        ],\n        [0.99713972, 0.03634336, 0.        , 0.        ],\n        [0.99701536, 0.03792351, 0.        , 0.        ],\n        [0.996891  , 0.03950365, 0.        , 0.        ],\n        [0.99676663, 0.0410838 , 0.        , 0.        ],\n        [0.99664227, 0.04266395, 0.        , 0.        ],\n        [0.99651791, 0.04424409, 0.        , 0.        ],\n        [0.99639355, 0.04582424, 0.        , 0.        ],\n        [0.99626919, 0.04740438, 0.        , 0.        ],\n        [0.99614483, 0.04898453, 0.        , 0.        ],\n        [0.99602047, 0.05056468, 0.        , 0.        ],\n        [0.99589611, 0.05214482, 0.        , 0.        ],\n        [0.99577175, 0.05372497, 0.        , 0.        ],\n        [0.99564739, 0.05530511, 0.        , 0.        ],\n        [0.99552303, 0.05688526, 0.        , 0.        ],\n        [0.99539867, 0.05846541, 0.        , 0.        ],\n        [0.99527431, 0.06004555, 0.        , 0.        ],\n        [0.99514995, 0.0616257 , 0.        , 0.        ],\n        [0.99502559, 0.06320584, 0.        , 0.        ],\n        [0.99490123, 0.06478599, 0.        , 0.        ],\n        [0.99477687, 0.06636614, 0.        , 0.        ],\n        [0.99465251, 0.06794628, 0.        , 0.        ],\n        [0.99452815, 0.06952643, 0.        , 0.        ],\n        [0.99440379, 0.07110658, 0.        , 0.        ],\n        [0.99427943, 0.07268672, 0.        , 0.        ],\n        [0.99415507, 0.07426687, 0.        , 0.        ],\n        [0.99403071, 0.07584701, 0.        , 0.        ],\n        [0.99390635, 0.07742716, 0.        , 0.        ],\n        [0.99378199, 0.07900731, 0.        , 0.        ],\n        [0.99365763, 0.08058745, 0.        , 0.        ],\n        [0.99353327, 0.0821676 , 0.        , 0.        ],\n        [0.99340891, 0.08374774, 0.        , 0.        ],\n        [0.99328455, 0.08532789, 0.        , 0.        ],\n        [0.99316019, 0.08690804, 0.        , 0.        ],\n        [0.99303583, 0.08848818, 0.        , 0.        ],\n        [0.99291147, 0.09006833, 0.        , 0.        ],\n        [0.99278711, 0.09164847, 0.        , 0.        ],\n        [0.99266275, 0.09322862, 0.        , 0.        ],\n        [0.99253839, 0.09480877, 0.        , 0.        ],\n        [0.99241403, 0.09638891, 0.        , 0.        ],\n        [0.99228967, 0.09796906, 0.        , 0.        ],\n        [0.99216531, 0.09954921, 0.        , 0.        ],\n        [0.99204095, 0.10112935, 0.        , 0.        ],\n        [0.99191659, 0.1027095 , 0.        , 0.        ],\n        [0.99179223, 0.10428964, 0.        , 0.        ],\n        [0.99166787, 0.10586979, 0.        , 0.        ],\n        [0.99154351, 0.10744994, 0.        , 0.        ],\n        [0.99141915, 0.10903008, 0.        , 0.        ],\n        [0.99129479, 0.11061023, 0.        , 0.        ],\n        [0.99117043, 0.11219037, 0.        , 0.        ],\n        [0.99104607, 0.11377052, 0.        , 0.        ],\n        [0.99092171, 0.11535067, 0.        , 0.        ],\n        [0.99079735, 0.11693081, 0.        , 0.        ],\n        [0.99067299, 0.11851096, 0.        , 0.        ],\n        [0.99054863, 0.1200911 , 0.        , 0.        ],\n        [0.99042426, 0.12167125, 0.        , 0.        ],\n        [0.9902999 , 0.1232514 , 0.        , 0.        ],\n        [0.99017554, 0.12483154, 0.        , 0.        ],\n        [0.99005118, 0.12641169, 0.        , 0.        ],\n        [0.98992682, 0.12799184, 0.        , 0.        ],\n        [0.98980246, 0.12957198, 0.        , 0.        ],\n        [0.9896781 , 0.13115213, 0.        , 0.        ],\n        [0.98955374, 0.13273227, 0.        , 0.        ],\n        [0.98942938, 0.13431242, 0.        , 0.        ],\n        [0.98930502, 0.13589257, 0.        , 0.        ],\n        [0.98918066, 0.13747271, 0.        , 0.        ],\n        [0.9890563 , 0.13905286, 0.        , 0.        ],\n        [0.98893194, 0.140633  , 0.        , 0.        ],\n        [0.98880758, 0.14221315, 0.        , 0.        ],\n        [0.98868322, 0.1437933 , 0.        , 0.        ],\n        [0.98855886, 0.14537344, 0.        , 0.        ],\n        [0.9884345 , 0.14695359, 0.        , 0.        ],\n        [0.98831014, 0.14853373, 0.        , 0.        ],\n        [0.98818578, 0.15011388, 0.        , 0.        ],\n        [0.98806142, 0.15169403, 0.        , 0.        ],\n        [0.98793706, 0.15327417, 0.        , 0.        ],\n        [0.9878127 , 0.15485432, 0.        , 0.        ],\n        [0.98768834, 0.15643447, 0.        , 0.        ]]),\n array([[300.        , 300.        , 300.        ],\n        [303.03030303, 300.        , 300.        ],\n        [306.06060606, 300.        , 300.        ],\n        [309.09090909, 300.        , 300.        ],\n        [312.12121212, 300.        , 300.        ],\n        [315.15151515, 300.        , 300.        ],\n        [318.18181818, 300.        , 300.        ],\n        [321.21212121, 300.        , 300.        ],\n        [324.24242424, 300.        , 300.        ],\n        [327.27272727, 300.        , 300.        ],\n        [330.3030303 , 300.        , 300.        ],\n        [333.33333333, 300.        , 300.        ],\n        [336.36363636, 300.        , 300.        ],\n        [339.39393939, 300.        , 300.        ],\n        [342.42424242, 300.        , 300.        ],\n        [345.45454545, 300.        , 300.        ],\n        [348.48484848, 300.        , 300.        ],\n        [351.51515152, 300.        , 300.        ],\n        [354.54545455, 300.        , 300.        ],\n        [357.57575758, 300.        , 300.        ],\n        [360.60606061, 300.        , 300.        ],\n        [363.63636364, 300.        , 300.        ],\n        [366.66666667, 300.        , 300.        ],\n        [369.6969697 , 300.        , 300.        ],\n        [372.72727273, 300.        , 300.        ],\n        [375.75757576, 300.        , 300.        ],\n        [378.78787879, 300.        , 300.        ],\n        [381.81818182, 300.        , 300.        ],\n        [384.84848485, 300.        , 300.        ],\n        [387.87878788, 300.        , 300.        ],\n        [390.90909091, 300.        , 300.        ],\n        [393.93939394, 300.        , 300.        ],\n        [396.96969697, 300.        , 300.        ],\n        [400.        , 300.        , 300.        ],\n        [403.03030303, 300.        , 300.        ],\n        [406.06060606, 300.        , 300.        ],\n        [409.09090909, 300.        , 300.        ],\n        [412.12121212, 300.        , 300.        ],\n        [415.15151515, 300.        , 300.        ],\n        [418.18181818, 300.        , 300.        ],\n        [421.21212121, 300.        , 300.        ],\n        [424.24242424, 300.        , 300.        ],\n        [427.27272727, 300.        , 300.        ],\n        [430.3030303 , 300.        , 300.        ],\n        [433.33333333, 300.        , 300.        ],\n        [436.36363636, 300.        , 300.        ],\n        [439.39393939, 300.        , 300.        ],\n        [442.42424242, 300.        , 300.        ],\n        [445.45454545, 300.        , 300.        ],\n        [448.48484848, 300.        , 300.        ],\n        [451.51515152, 300.        , 300.        ],\n        [454.54545455, 300.        , 300.        ],\n        [457.57575758, 300.        , 300.        ],\n        [460.60606061, 300.        , 300.        ],\n        [463.63636364, 300.        , 300.        ],\n        [466.66666667, 300.        , 300.        ],\n        [469.6969697 , 300.        , 300.        ],\n        [472.72727273, 300.        , 300.        ],\n        [475.75757576, 300.        , 300.        ],\n        [478.78787879, 300.        , 300.        ],\n        [481.81818182, 300.        , 300.        ],\n        [484.84848485, 300.        , 300.        ],\n        [487.87878788, 300.        , 300.        ],\n        [490.90909091, 300.        , 300.        ],\n        [493.93939394, 300.        , 300.        ],\n        [496.96969697, 300.        , 300.        ],\n        [500.        , 300.        , 300.        ],\n        [503.03030303, 300.        , 300.        ],\n        [506.06060606, 300.        , 300.        ],\n        [509.09090909, 300.        , 300.        ],\n        [512.12121212, 300.        , 300.        ],\n        [515.15151515, 300.        , 300.        ],\n        [518.18181818, 300.        , 300.        ],\n        [521.21212121, 300.        , 300.        ],\n        [524.24242424, 300.        , 300.        ],\n        [527.27272727, 300.        , 300.        ],\n        [530.3030303 , 300.        , 300.        ],\n        [533.33333333, 300.        , 300.        ],\n        [536.36363636, 300.        , 300.        ],\n        [539.39393939, 300.        , 300.        ],\n        [542.42424242, 300.        , 300.        ],\n        [545.45454545, 300.        , 300.        ],\n        [548.48484848, 300.        , 300.        ],\n        [551.51515152, 300.        , 300.        ],\n        [554.54545455, 300.        , 300.        ],\n        [557.57575758, 300.        , 300.        ],\n        [560.60606061, 300.        , 300.        ],\n        [563.63636364, 300.        , 300.        ],\n        [566.66666667, 300.        , 300.        ],\n        [569.6969697 , 300.        , 300.        ],\n        [572.72727273, 300.        , 300.        ],\n        [575.75757576, 300.        , 300.        ],\n        [578.78787879, 300.        , 300.        ],\n        [581.81818182, 300.        , 300.        ],\n        [584.84848485, 300.        , 300.        ],\n        [587.87878788, 300.        , 300.        ],\n        [590.90909091, 300.        , 300.        ],\n        [593.93939394, 300.        , 300.        ],\n        [596.96969697, 300.        , 300.        ],\n        [600.        , 300.        , 300.        ]]))"
     },
     "execution_count": 61,
     "metadata": {},
     "output_type": "execute_result"
    }
   ],
   "source": [
    "interpolation_count = 100\n",
    "interpolated_quaternions = i.linear_interpolation(orientation_keyframes, interpolation_count)\n",
    "interpolated_centers = i.linear_interpolation(center_keyframes, interpolation_count)\n",
    "\n",
    "interpolated_quaternions, interpolated_centers"
   ],
   "metadata": {
    "collapsed": false,
    "ExecuteTime": {
     "end_time": "2023-10-18T22:37:20.925226Z",
     "start_time": "2023-10-18T22:37:20.882371Z"
    }
   },
   "id": "b6bc4689a1340203"
  },
  {
   "cell_type": "markdown",
   "source": [
    "## Display first interpolated frame"
   ],
   "metadata": {
    "collapsed": false
   },
   "id": "56f2e611cca65526"
  },
  {
   "cell_type": "code",
   "execution_count": 62,
   "outputs": [],
   "source": [
    "pygame.init()\n",
    "\n",
    "screen = pygame.display.set_mode((screen_width, screen_height))\n",
    "pygame.display.set_caption('Quaternion Test')\n",
    "\n",
    "screen.fill((255, 255, 255))\n",
    "\n",
    "sim.draw_wireframe(screen, sim.projection(0, camera_location)(q.quaternion_to_vector(q.qvq_inverse(interpolated_quaternions[0], q.vector_to_quaternion(reference_vertices))) + interpolated_centers[0]), faces, screen_height)\n",
    "\n",
    "pygame.display.update()"
   ],
   "metadata": {
    "collapsed": false,
    "ExecuteTime": {
     "end_time": "2023-10-18T22:37:36.367472Z",
     "start_time": "2023-10-18T22:37:36.153005Z"
    }
   },
   "id": "788900223eb13c74"
  },
  {
   "cell_type": "markdown",
   "source": [
    "## Display last interpolated frame"
   ],
   "metadata": {
    "collapsed": false
   },
   "id": "64ddea997262d90e"
  },
  {
   "cell_type": "code",
   "execution_count": 63,
   "outputs": [],
   "source": [
    "pygame.init()\n",
    "\n",
    "screen = pygame.display.set_mode((screen_width, screen_height))\n",
    "pygame.display.set_caption('Quaternion Test')\n",
    "\n",
    "screen.fill((255, 255, 255))\n",
    "\n",
    "sim.draw_wireframe(screen, sim.projection(0, camera_location)(q.quaternion_to_vector(q.qvq_inverse(interpolated_quaternions[-1], q.vector_to_quaternion(reference_vertices))) + interpolated_centers[-1]), faces, screen_height)\n",
    "\n",
    "pygame.display.update()"
   ],
   "metadata": {
    "collapsed": false,
    "ExecuteTime": {
     "end_time": "2023-10-18T22:37:42.289737Z",
     "start_time": "2023-10-18T22:37:42.240670Z"
    }
   },
   "id": "728dcaf9c08c2a0f"
  },
  {
   "cell_type": "markdown",
   "source": [
    "## Play"
   ],
   "metadata": {
    "collapsed": false
   },
   "id": "81874c870bf2e087"
  },
  {
   "cell_type": "code",
   "execution_count": 64,
   "outputs": [],
   "source": [
    "fps = 20\n",
    "clock = pygame.time.Clock()"
   ],
   "metadata": {
    "collapsed": false,
    "ExecuteTime": {
     "end_time": "2023-10-18T22:37:46.974335Z",
     "start_time": "2023-10-18T22:37:46.952400Z"
    }
   },
   "id": "b1abf538bc2cb1e8"
  },
  {
   "cell_type": "code",
   "execution_count": 66,
   "outputs": [],
   "source": [
    "pygame.init()\n",
    "\n",
    "screen = pygame.display.set_mode((screen_width, screen_height))\n",
    "pygame.display.set_caption('Quaternion Test')\n",
    "\n",
    "for j in range(interpolation_count):\n",
    "    sim.render(screen, q.quaternion_to_vector(q.qvq_inverse(interpolated_quaternions[j], q.vector_to_quaternion(reference_vertices))) + interpolated_centers[j], faces, screen_height, sim.projection(0, camera_location))\n",
    "    \n",
    "    clock.tick(fps)"
   ],
   "metadata": {
    "collapsed": false,
    "ExecuteTime": {
     "end_time": "2023-10-18T22:38:08.468613Z",
     "start_time": "2023-10-18T22:38:03.455298Z"
    }
   },
   "id": "529beb5df9f4adad"
  },
  {
   "cell_type": "code",
   "execution_count": null,
   "outputs": [],
   "source": [],
   "metadata": {
    "collapsed": false
   },
   "id": "8a4e663a7abbcaf7"
  }
 ],
 "metadata": {
  "kernelspec": {
   "display_name": "Python 3",
   "language": "python",
   "name": "python3"
  },
  "language_info": {
   "codemirror_mode": {
    "name": "ipython",
    "version": 2
   },
   "file_extension": ".py",
   "mimetype": "text/x-python",
   "name": "python",
   "nbconvert_exporter": "python",
   "pygments_lexer": "ipython2",
   "version": "2.7.6"
  }
 },
 "nbformat": 4,
 "nbformat_minor": 5
}
