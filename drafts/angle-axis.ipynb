{
 "cells": [
  {
   "cell_type": "code",
   "execution_count": 2,
   "id": "initial_id",
   "metadata": {
    "collapsed": true,
    "ExecuteTime": {
     "end_time": "2023-10-15T00:44:37.544688Z",
     "start_time": "2023-10-15T00:44:37.459835Z"
    }
   },
   "outputs": [],
   "source": [
    "import pygame\n",
    "import numpy as np\n",
    "import matplotlib.pyplot as plt"
   ]
  },
  {
   "cell_type": "code",
   "execution_count": 4,
   "outputs": [],
   "source": [
    "axis = np.array([1, 2, 3])\n",
    "angle = 0.1 * np.pi"
   ],
   "metadata": {
    "collapsed": false,
    "ExecuteTime": {
     "end_time": "2023-10-15T00:48:04.919368Z",
     "start_time": "2023-10-15T00:48:04.787611Z"
    }
   },
   "id": "ae797931bdee8fbc"
  },
  {
   "cell_type": "code",
   "execution_count": 17,
   "outputs": [
    {
     "data": {
      "text/plain": "[array([[1, 1, 1],\n        [2, 2, 2],\n        [3, 3, 3]]),\n array([[1, 2, 3],\n        [1, 2, 3],\n        [1, 2, 3]])]"
     },
     "execution_count": 17,
     "metadata": {},
     "output_type": "execute_result"
    }
   ],
   "source": [
    "np.meshgrid(axis, axis, indexing='ij')"
   ],
   "metadata": {
    "collapsed": false,
    "ExecuteTime": {
     "end_time": "2023-10-15T01:01:32.743492Z",
     "start_time": "2023-10-15T01:01:32.663338Z"
    }
   },
   "id": "f3a74e91e942f943"
  },
  {
   "cell_type": "code",
   "execution_count": 15,
   "outputs": [
    {
     "data": {
      "text/plain": "array([[1, 2, 3],\n       [2, 4, 6],\n       [3, 6, 9]])"
     },
     "execution_count": 15,
     "metadata": {},
     "output_type": "execute_result"
    }
   ],
   "source": [
    "np.multiply(*np.meshgrid(axis, axis))"
   ],
   "metadata": {
    "collapsed": false,
    "ExecuteTime": {
     "end_time": "2023-10-15T00:52:40.922144Z",
     "start_time": "2023-10-15T00:52:40.759488Z"
    }
   },
   "id": "3def9e9a3179b24c"
  },
  {
   "cell_type": "code",
   "execution_count": 16,
   "outputs": [
    {
     "name": "stdout",
     "output_type": "stream",
     "text": [
      "A_hat:\n",
      "[[1 2 3]\n",
      " [2 4 6]\n",
      " [3 6 9]]\n",
      "A_star:\n",
      "[[ 0 -3  2]\n",
      " [ 3  0 -1]\n",
      " [-2  1  0]]\n",
      "rotational_matrix:\n",
      "[[ 1.         -0.82916402  0.76486444]\n",
      " [ 1.02493795  1.14683045 -0.01535609]\n",
      " [-0.47120354  0.6026779   1.39154787]]\n"
     ]
    }
   ],
   "source": [
    "A_hat = np.multiply(*np.meshgrid(axis, axis))\n",
    "A_star = np.array([[0, -axis[2], axis[1]],\n",
    "                   [axis[2], 0, -axis[0]],\n",
    "                   [-axis[1], axis[0], 0]])\n",
    "rotational_matrix = A_hat + np.cos(angle) * (np.identity(A_hat.shape[0]) - A_hat) + np.sin(angle) * A_star\n",
    "\n",
    "print(f\"A_hat:\\n{A_hat}\")\n",
    "print(f\"A_star:\\n{A_star}\")\n",
    "print(f\"rotational_matrix:\\n{rotational_matrix}\")"
   ],
   "metadata": {
    "collapsed": false,
    "ExecuteTime": {
     "end_time": "2023-10-15T01:01:04.100970Z",
     "start_time": "2023-10-15T01:01:03.918309Z"
    }
   },
   "id": "7c8d137680fe19d9"
  },
  {
   "cell_type": "code",
   "execution_count": null,
   "outputs": [],
   "source": [],
   "metadata": {
    "collapsed": false
   },
   "id": "259648cb31ff91c1"
  }
 ],
 "metadata": {
  "kernelspec": {
   "display_name": "Python 3",
   "language": "python",
   "name": "python3"
  },
  "language_info": {
   "codemirror_mode": {
    "name": "ipython",
    "version": 2
   },
   "file_extension": ".py",
   "mimetype": "text/x-python",
   "name": "python",
   "nbconvert_exporter": "python",
   "pygments_lexer": "ipython2",
   "version": "2.7.6"
  }
 },
 "nbformat": 4,
 "nbformat_minor": 5
}
