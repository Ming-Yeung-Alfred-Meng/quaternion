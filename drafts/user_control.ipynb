{
 "cells": [
  {
   "cell_type": "code",
   "execution_count": 2,
   "id": "initial_id",
   "metadata": {
    "collapsed": true,
    "ExecuteTime": {
     "end_time": "2023-10-17T22:18:19.540987Z",
     "start_time": "2023-10-17T22:18:13.749549Z"
    }
   },
   "outputs": [
    {
     "name": "stdout",
     "output_type": "stream",
     "text": [
      "pygame 2.5.2 (SDL 2.28.3, Python 3.11.5)\n",
      "Hello from the pygame community. https://www.pygame.org/contribute.html\n"
     ]
    },
    {
     "data": {
      "text/plain": "<module 'src.transformations' from '/Users/alfred/Documents/rotations/src/transformations.py'>"
     },
     "execution_count": 2,
     "metadata": {},
     "output_type": "execute_result"
    }
   ],
   "source": [
    "import pygame\n",
    "import numpy as np\n",
    "import sys\n",
    "import importlib\n",
    "from typing import Dict, Union, Tuple, Callable\n",
    "\n",
    "import src.quaternion as q\n",
    "import src.simulation as sim\n",
    "import src.transformations as t\n",
    "import src.coordinates as c\n",
    "importlib.reload(q)\n",
    "importlib.reload(sim)\n",
    "importlib.reload(t)"
   ]
  },
  {
   "cell_type": "code",
   "execution_count": null,
   "outputs": [],
   "source": [
    "# TODO: get quaternion of orientation "
   ],
   "metadata": {
    "collapsed": false
   },
   "id": "f12afbce8d251e72"
  },
  {
   "cell_type": "code",
   "execution_count": 5,
   "outputs": [],
   "source": [
    "def start_environment(screen_width: Union[int, float],\n",
    "                      screen_height: Union[int, float],\n",
    "                      camera_location: np.ndarray,\n",
    "                      translation_controls: Dict[int, Tuple[Callable, Tuple]],\n",
    "                      rotation_controls: Dict[int, Tuple[Callable, Tuple]],\n",
    "                      uniform_scale_controls: Dict[int, Tuple[Callable, Tuple]],\n",
    "                      vertices: np.ndarray,\n",
    "                      faces: np.ndarray) -> None:\n",
    "    assert len(vertices.shape) == 2\n",
    "    assert vertices.shape[1] == 3\n",
    "    assert len(faces.shape) == 2\n",
    "    assert faces.shape[1] == 4\n",
    "\n",
    "    pygame.init()\n",
    "\n",
    "    screen = pygame.display.set_mode((screen_width, screen_height))\n",
    "    pygame.display.set_caption('Affine Transformations')\n",
    "\n",
    "    running = True\n",
    "    while running:\n",
    "        for event in pygame.event.get():\n",
    "            if event.type == pygame.QUIT:\n",
    "                running = False\n",
    "\n",
    "        if pygame.key.get_pressed()[pygame.K_LSHIFT] or pygame.key.get_pressed()[pygame.K_RSHIFT]:\n",
    "            sim.control(translation_controls)\n",
    "\n",
    "        else:\n",
    "            sim.control(rotation_controls)\n",
    "            sim.control(uniform_scale_controls)\n",
    "\n",
    "        sim.render(screen, vertices, faces, screen_height, sim.projection(0, camera_location))\n",
    "\n",
    "    pygame.quit()\n",
    "    sys.exit(0)\n",
    "\n",
    "\n",
    "def run() -> None:\n",
    "    center = np.array([300., 300., 300.])\n",
    "    vertices, faces = sim.init_cuboid(center, 50, 50, 50)\n",
    "    keyframes = np.full_like(vertices[:2, :], np.nan)\n",
    "\n",
    "    translation_controls = {pygame.K_LEFT: (t.rotation_about_y, (center, vertices, - np.pi / 80)),\n",
    "                            pygame.K_RIGHT: (t.rotation_about_y, (center, vertices, np.pi / 80)),\n",
    "                            pygame.K_UP: (t.rotation_about_x, (center, vertices, - np.pi / 80)),\n",
    "                            pygame.K_DOWN: (t.rotation_about_x, (center, vertices, np.pi / 80)),\n",
    "                            pygame.K_a: (t.rotation_about_z, (center, vertices, - np.pi / 80)),\n",
    "                            pygame.K_d: (t.rotation_about_z, (center, vertices, np.pi / 80))}\n",
    "\n",
    "    rotation_controls = {pygame.K_LEFT: (t.translation, (center, vertices, - 5, 0)),\n",
    "                         pygame.K_RIGHT: (t.translation, (center, vertices, 5, 0)),\n",
    "                         pygame.K_UP: (t.translation, (center, vertices, 5, 1)),\n",
    "                         pygame.K_DOWN: (t.translation, (center, vertices, - 5, 1)),\n",
    "                         pygame.K_w: (t.translation, (center, vertices, 5, 2)),\n",
    "                         pygame.K_s: (t.translation, (center, vertices, - 5, 2))}\n",
    "\n",
    "    uniform_scale_controls = {pygame.K_n: (t.uniform_scale, (center, vertices, 0.9)),\n",
    "                              pygame.K_m: (t.uniform_scale, (center, vertices, 1.1))}\n",
    "    \n",
    "    keyframe_record_controls = {pygame.K_i: (c.local_coordinates, (vertices[0], center, keyframes[0, :])), pygame.K_o: (c.local_coordinates, (vertices[0], center, keyframes[1, :]))}\n",
    "    \n",
    "    interpolate_controls = {pygame.K_p: (animate_inbetweens, (,))}\n",
    "\n",
    "    start_environment(800, 800, np.array([400., 400., -100.]),\n",
    "                      translation_controls,\n",
    "                      rotation_controls,\n",
    "                      uniform_scale_controls,\n",
    "                      vertices, faces)"
   ],
   "metadata": {
    "collapsed": false,
    "ExecuteTime": {
     "end_time": "2023-10-17T00:54:21.990946Z",
     "start_time": "2023-10-17T00:54:21.974801Z"
    }
   },
   "id": "50b88c4f86f9f83a"
  },
  {
   "cell_type": "code",
   "execution_count": 4,
   "outputs": [],
   "source": [
    "center = np.array([300., 300., 300.])\n",
    "vertices, faces = sim.init_cuboid(center, 50, 50, 50)\n",
    "keyframes = np.full_like(vertices[:2, :], np.nan)"
   ],
   "metadata": {
    "collapsed": false,
    "ExecuteTime": {
     "end_time": "2023-10-17T22:18:22.398435Z",
     "start_time": "2023-10-17T22:18:22.376794Z"
    }
   },
   "id": "d3cbbd522e7a55c2"
  },
  {
   "cell_type": "code",
   "execution_count": 5,
   "outputs": [
    {
     "data": {
      "text/plain": "(array([[nan, nan, nan],\n        [nan, nan, nan]]),\n array([[nan, nan, nan],\n        [nan, nan, nan]]))"
     },
     "execution_count": 5,
     "metadata": {},
     "output_type": "execute_result"
    }
   ],
   "source": [
    "keyframes"
   ],
   "metadata": {
    "collapsed": false,
    "ExecuteTime": {
     "end_time": "2023-10-17T22:18:22.759052Z",
     "start_time": "2023-10-17T22:18:22.742934Z"
    }
   },
   "id": "f945eb0f2e98ec6f"
  },
  {
   "cell_type": "code",
   "execution_count": 21,
   "outputs": [
    {
     "data": {
      "text/plain": "(True,\n array([[ True,  True,  True],\n        [ True,  True,  True]]))"
     },
     "execution_count": 21,
     "metadata": {},
     "output_type": "execute_result"
    }
   ],
   "source": [
    "np.all(np.isnan(keyframes)), np.isnan(keyframes)"
   ],
   "metadata": {
    "collapsed": false,
    "ExecuteTime": {
     "end_time": "2023-10-17T01:26:30.991522Z",
     "start_time": "2023-10-17T01:26:30.969866Z"
    }
   },
   "id": "35e5ef45ccc0fece"
  },
  {
   "cell_type": "code",
   "execution_count": 22,
   "outputs": [
    {
     "data": {
      "text/plain": "(array([50., 50., 50.]),\n array([[50., 50., 50.],\n        [nan, nan, nan]]))"
     },
     "execution_count": 22,
     "metadata": {},
     "output_type": "execute_result"
    }
   ],
   "source": [
    "keyframe_copy = keyframes[0, :]\n",
    "keyframe_copy[:] = vertices[0] - center\n",
    "keyframe_copy, keyframes"
   ],
   "metadata": {
    "collapsed": false,
    "ExecuteTime": {
     "end_time": "2023-10-17T01:26:45.841363Z",
     "start_time": "2023-10-17T01:26:45.822664Z"
    }
   },
   "id": "4de78011bcf17850"
  },
  {
   "cell_type": "markdown",
   "source": [],
   "metadata": {
    "collapsed": false
   },
   "id": "ae170e6451990b21"
  },
  {
   "cell_type": "code",
   "execution_count": null,
   "outputs": [],
   "source": [],
   "metadata": {
    "collapsed": false
   },
   "id": "3a2192995c403de"
  }
 ],
 "metadata": {
  "kernelspec": {
   "display_name": "Python 3",
   "language": "python",
   "name": "python3"
  },
  "language_info": {
   "codemirror_mode": {
    "name": "ipython",
    "version": 2
   },
   "file_extension": ".py",
   "mimetype": "text/x-python",
   "name": "python",
   "nbconvert_exporter": "python",
   "pygments_lexer": "ipython2",
   "version": "2.7.6"
  }
 },
 "nbformat": 4,
 "nbformat_minor": 5
}
