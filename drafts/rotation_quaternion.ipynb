{
 "cells": [
  {
   "cell_type": "code",
   "execution_count": 1,
   "id": "initial_id",
   "metadata": {
    "collapsed": true,
    "ExecuteTime": {
     "end_time": "2023-10-18T03:16:13.464818Z",
     "start_time": "2023-10-18T03:16:10.584325Z"
    }
   },
   "outputs": [
    {
     "data": {
      "text/plain": "<module 'src.quaternion' from '/Users/alfred/Documents/rotations/src/quaternion.py'>"
     },
     "execution_count": 1,
     "metadata": {},
     "output_type": "execute_result"
    }
   ],
   "source": [
    "import numpy as np\n",
    "import src.quaternion as q\n",
    "import importlib\n",
    "\n",
    "importlib.reload(q)"
   ]
  },
  {
   "cell_type": "code",
   "execution_count": 66,
   "outputs": [
    {
     "data": {
      "text/plain": "(array([[1., 6., 6.],\n        [0., 0., 0.],\n        [9., 7., 8.]]),\n array([0., 4., 2.]))"
     },
     "execution_count": 66,
     "metadata": {},
     "output_type": "execute_result"
    }
   ],
   "source": [
    "axis = np.array([[1., 6., 6.],\n",
    "        [0., 0., 0.],\n",
    "        [9., 7., 8.]])\n",
    "angle = np.random.randint(0, 10, (3,)).astype(np.float64)\n",
    "\n",
    "axis, angle"
   ],
   "metadata": {
    "collapsed": false,
    "ExecuteTime": {
     "end_time": "2023-10-18T04:09:37.052153Z",
     "start_time": "2023-10-18T04:09:37.031061Z"
    }
   },
   "id": "79dab33c1b6d7b2e"
  },
  {
   "cell_type": "code",
   "execution_count": 67,
   "outputs": [
    {
     "data": {
      "text/plain": "array([ 8.54400375,  0.        , 13.92838828])"
     },
     "execution_count": 67,
     "metadata": {},
     "output_type": "execute_result"
    }
   ],
   "source": [
    "axis_norm = np.linalg.norm(axis, axis=-1)\n",
    "axis_norm"
   ],
   "metadata": {
    "collapsed": false,
    "ExecuteTime": {
     "end_time": "2023-10-18T04:09:37.400419Z",
     "start_time": "2023-10-18T04:09:37.382333Z"
    }
   },
   "id": "38b468056b9cc44c"
  },
  {
   "cell_type": "code",
   "execution_count": 68,
   "outputs": [
    {
     "data": {
      "text/plain": "array([ True, False,  True])"
     },
     "execution_count": 68,
     "metadata": {},
     "output_type": "execute_result"
    }
   ],
   "source": [
    "mask = axis_norm != 0\n",
    "mask"
   ],
   "metadata": {
    "collapsed": false,
    "ExecuteTime": {
     "end_time": "2023-10-18T04:09:37.755304Z",
     "start_time": "2023-10-18T04:09:37.739017Z"
    }
   },
   "id": "604fa9a403417efd"
  },
  {
   "cell_type": "code",
   "execution_count": 69,
   "outputs": [
    {
     "data": {
      "text/plain": "array([ 8.54400375, 13.92838828])"
     },
     "execution_count": 69,
     "metadata": {},
     "output_type": "execute_result"
    }
   ],
   "source": [
    "axis_norm[mask]"
   ],
   "metadata": {
    "collapsed": false,
    "ExecuteTime": {
     "end_time": "2023-10-18T04:09:38.164144Z",
     "start_time": "2023-10-18T04:09:38.133712Z"
    }
   },
   "id": "c3fc172f32672721"
  },
  {
   "cell_type": "code",
   "execution_count": 70,
   "outputs": [
    {
     "data": {
      "text/plain": "array([[ 8.54400375],\n       [13.92838828]])"
     },
     "execution_count": 70,
     "metadata": {},
     "output_type": "execute_result"
    }
   ],
   "source": [
    "axis_norm[mask][None].T"
   ],
   "metadata": {
    "collapsed": false,
    "ExecuteTime": {
     "end_time": "2023-10-18T04:09:38.548328Z",
     "start_time": "2023-10-18T04:09:38.521842Z"
    }
   },
   "id": "1057fa6608c6e677"
  },
  {
   "cell_type": "code",
   "execution_count": 71,
   "outputs": [
    {
     "data": {
      "text/plain": "array([[1., 6., 6.],\n       [9., 7., 8.]])"
     },
     "execution_count": 71,
     "metadata": {},
     "output_type": "execute_result"
    }
   ],
   "source": [
    "axis[mask]"
   ],
   "metadata": {
    "collapsed": false,
    "ExecuteTime": {
     "end_time": "2023-10-18T04:09:39.229215Z",
     "start_time": "2023-10-18T04:09:39.212911Z"
    }
   },
   "id": "dcdb3a019a138ecc"
  },
  {
   "cell_type": "code",
   "execution_count": 72,
   "outputs": [
    {
     "data": {
      "text/plain": "array([[0.11704115, 0.70224688, 0.70224688],\n       [0.64616234, 0.50257071, 0.57436653]])"
     },
     "execution_count": 72,
     "metadata": {},
     "output_type": "execute_result"
    }
   ],
   "source": [
    "axis[mask] / axis_norm[mask][None].T"
   ],
   "metadata": {
    "collapsed": false,
    "ExecuteTime": {
     "end_time": "2023-10-18T04:09:39.655408Z",
     "start_time": "2023-10-18T04:09:39.631964Z"
    }
   },
   "id": "9bed3d1b80a6c327"
  },
  {
   "cell_type": "code",
   "execution_count": 73,
   "outputs": [
    {
     "data": {
      "text/plain": "(array([[1., 6., 6.],\n        [0., 0., 0.],\n        [9., 7., 8.]]),\n array([[0.11704115, 0.70224688, 0.70224688],\n        [0.        , 0.        , 0.        ],\n        [0.64616234, 0.50257071, 0.57436653]]))"
     },
     "execution_count": 73,
     "metadata": {},
     "output_type": "execute_result"
    }
   ],
   "source": [
    "axis_normalized = axis.copy()\n",
    "axis_normalized[mask] /= axis_norm[mask][None].T\n",
    "axis, axis_normalized"
   ],
   "metadata": {
    "collapsed": false,
    "ExecuteTime": {
     "end_time": "2023-10-18T04:09:40.370058Z",
     "start_time": "2023-10-18T04:09:40.342952Z"
    }
   },
   "id": "2070dd2151ced161"
  },
  {
   "cell_type": "code",
   "execution_count": 74,
   "outputs": [
    {
     "data": {
      "text/plain": "array([0.64616234, 0.50257071, 0.57436653])"
     },
     "execution_count": 74,
     "metadata": {},
     "output_type": "execute_result"
    }
   ],
   "source": [
    "axis[2] / np.linalg.norm(axis[2])"
   ],
   "metadata": {
    "collapsed": false,
    "ExecuteTime": {
     "end_time": "2023-10-18T04:09:47.830157Z",
     "start_time": "2023-10-18T04:09:47.806718Z"
    }
   },
   "id": "5ff2d8296c69e52b"
  },
  {
   "cell_type": "code",
   "execution_count": 76,
   "outputs": [
    {
     "data": {
      "text/plain": "array([ 1.        , -0.41614684,  0.54030231])"
     },
     "execution_count": 76,
     "metadata": {},
     "output_type": "execute_result"
    }
   ],
   "source": [
    "np.cos(angle / 2)"
   ],
   "metadata": {
    "collapsed": false,
    "ExecuteTime": {
     "end_time": "2023-10-18T04:11:01.496799Z",
     "start_time": "2023-10-18T04:11:01.481652Z"
    }
   },
   "id": "1e6128501a9554ce"
  },
  {
   "cell_type": "code",
   "execution_count": 83,
   "outputs": [
    {
     "data": {
      "text/plain": "array([[ 1.        ,  1.        ,  6.        ,  6.        ],\n       [-0.41614684,  0.        ,  0.        ,  0.        ],\n       [ 0.54030231,  9.        ,  7.        ,  8.        ]])"
     },
     "execution_count": 83,
     "metadata": {},
     "output_type": "execute_result"
    }
   ],
   "source": [
    "result = np.insert(axis, 0, np.cos(angle / 2), axis=-1)\n",
    "result"
   ],
   "metadata": {
    "collapsed": false,
    "ExecuteTime": {
     "end_time": "2023-10-18T04:13:12.416435Z",
     "start_time": "2023-10-18T04:13:12.369022Z"
    }
   },
   "id": "c6e16784cdbd3425"
  },
  {
   "cell_type": "code",
   "execution_count": 89,
   "outputs": [
    {
     "data": {
      "text/plain": "array([0.        , 0.90929743, 0.84147098])"
     },
     "execution_count": 89,
     "metadata": {},
     "output_type": "execute_result"
    }
   ],
   "source": [
    "np.sin(angle / 2)"
   ],
   "metadata": {
    "collapsed": false,
    "ExecuteTime": {
     "end_time": "2023-10-18T04:15:24.469727Z",
     "start_time": "2023-10-18T04:15:24.417010Z"
    }
   },
   "id": "35f6c5f2619fb61d"
  },
  {
   "cell_type": "code",
   "execution_count": 92,
   "outputs": [
    {
     "data": {
      "text/plain": "(array([[ 1.        ,  1.        ,  6.        ,  6.        ],\n        [-0.41614684,  0.        ,  0.        ,  0.        ],\n        [ 0.54030231,  9.        ,  7.        ,  8.        ]]),\n array([[ 1.        ,  0.        ,  0.        ,  0.        ],\n        [-0.41614684,  0.        ,  0.        ,  0.        ],\n        [ 0.54030231,  7.57323886,  5.89029689,  6.73176788]]),\n array([[ 1.        ,  0.        ,  0.        ,  0.        ],\n        [-0.41614684,  0.        ,  0.        ,  0.        ],\n        [ 0.54030231,  7.57323886,  5.89029689,  6.73176788]]))"
     },
     "execution_count": 92,
     "metadata": {},
     "output_type": "execute_result"
    }
   ],
   "source": [
    "result_copy = result.copy()\n",
    "result_copy2 = result.copy()\n",
    "result_copy[..., 1:] *= np.sin(angle / 2)[None].T\n",
    "result_copy2.T[1:]  *= np.sin(angle / 2)\n",
    "result, result_copy, result_copy2"
   ],
   "metadata": {
    "collapsed": false,
    "ExecuteTime": {
     "end_time": "2023-10-18T04:17:35.019996Z",
     "start_time": "2023-10-18T04:17:34.999322Z"
    }
   },
   "id": "cdc8fec2557f3305"
  },
  {
   "cell_type": "code",
   "execution_count": null,
   "outputs": [],
   "source": [],
   "metadata": {
    "collapsed": false
   },
   "id": "bc05fa216b456caa"
  },
  {
   "cell_type": "code",
   "execution_count": 51,
   "outputs": [
    {
     "data": {
      "text/plain": "(array([[0, 1, 2],\n        [3, 4, 5],\n        [6, 7, 8]]),\n array([[0, 1, 2],\n        [3, 4, 5],\n        [6, 7, 8]]))"
     },
     "execution_count": 51,
     "metadata": {},
     "output_type": "execute_result"
    }
   ],
   "source": [
    "a = np.arange(9).reshape(3,3)\n",
    "b = a\n",
    "a, b\n"
   ],
   "metadata": {
    "collapsed": false,
    "ExecuteTime": {
     "end_time": "2023-10-18T03:36:36.732271Z",
     "start_time": "2023-10-18T03:36:36.709046Z"
    }
   },
   "id": "c876983f2f17f528"
  },
  {
   "cell_type": "code",
   "execution_count": 52,
   "outputs": [],
   "source": [
    "b[[0, 2]] = b[[0, 2]] * 99"
   ],
   "metadata": {
    "collapsed": false,
    "ExecuteTime": {
     "end_time": "2023-10-18T03:36:37.468434Z",
     "start_time": "2023-10-18T03:36:37.450793Z"
    }
   },
   "id": "3360b389cb664ae0"
  },
  {
   "cell_type": "code",
   "execution_count": 53,
   "outputs": [
    {
     "data": {
      "text/plain": "(array([[  0,  99, 198],\n        [  3,   4,   5],\n        [594, 693, 792]]),\n array([[  0,  99, 198],\n        [  3,   4,   5],\n        [594, 693, 792]]))"
     },
     "execution_count": 53,
     "metadata": {},
     "output_type": "execute_result"
    }
   ],
   "source": [
    "a, b"
   ],
   "metadata": {
    "collapsed": false,
    "ExecuteTime": {
     "end_time": "2023-10-18T03:36:40.346102Z",
     "start_time": "2023-10-18T03:36:40.321158Z"
    }
   },
   "id": "273d4f59362bc2a6"
  },
  {
   "cell_type": "code",
   "execution_count": null,
   "outputs": [],
   "source": [],
   "metadata": {
    "collapsed": false
   },
   "id": "7c2019379a18cf28"
  }
 ],
 "metadata": {
  "kernelspec": {
   "display_name": "Python 3",
   "language": "python",
   "name": "python3"
  },
  "language_info": {
   "codemirror_mode": {
    "name": "ipython",
    "version": 2
   },
   "file_extension": ".py",
   "mimetype": "text/x-python",
   "name": "python",
   "nbconvert_exporter": "python",
   "pygments_lexer": "ipython2",
   "version": "2.7.6"
  }
 },
 "nbformat": 4,
 "nbformat_minor": 5
}
