{
 "cells": [
  {
   "cell_type": "markdown",
   "source": [
    "methods of rotation\n",
    "    fixed-axis\n",
    "    euler\n",
    "    axis-angle\n",
    "    quaternions\n",
    "    \n",
    "interpolation of orientations\n",
    "    fixed-axis\n",
    "    euler\n",
    "    angle-axis\n",
    "    quaternions\n",
    "\n",
    "planetary motion"
   ],
   "metadata": {
    "collapsed": false
   },
   "id": "71e2fc21fed43c34"
  },
  {
   "cell_type": "code",
   "execution_count": null,
   "outputs": [],
   "source": [
    "import random\n",
    "import pygame\n",
    "import numpy as np\n",
    "import matplotlib.pyplot as plt\n",
    "import src.quaternion as q\n",
    "import importlib\n",
    "import random\n",
    "import sys\n",
    "\n",
    "import src.simulation as sim\n",
    "\n",
    "importlib.reload(q)\n",
    "importlib.reload(sim)"
   ],
   "metadata": {
    "collapsed": false
   },
   "id": "66d6ee702923b3d5"
  },
  {
   "cell_type": "code",
   "execution_count": null,
   "outputs": [],
   "source": [
    "# axes = np.random.random_sample((2, 3))\n",
    "# angles = np.random.random_sample(2) * 2 * np.pi\n",
    "axes = np.array([[1., 0., 0.],\n",
    "                 [1., 0., 0.]])\n",
    "angles = np.array([0.25 * np.pi, - 0.25 * np.pi])\n",
    "axes, angles"
   ],
   "metadata": {
    "collapsed": false
   },
   "id": "f7c98d952fb7ed2f"
  },
  {
   "cell_type": "code",
   "execution_count": null,
   "outputs": [],
   "source": [
    "orientations = q.rotation_quaternion(angles, axes)\n",
    "\n",
    "orientations"
   ],
   "metadata": {
    "collapsed": false
   },
   "id": "ceb287111517f7a"
  },
  {
   "cell_type": "code",
   "execution_count": null,
   "outputs": [],
   "source": [
    "interpolation_count = 10\n",
    "interpolant = np.linspace([0, 1], [1, 1], num=interpolation_count)\n",
    "coefficients = np.array([[-1, 1],\n",
    "                         [1, 0]])\n",
    "interpolant"
   ],
   "metadata": {
    "collapsed": false
   },
   "id": "3e4330dc8dc3f163"
  },
  {
   "cell_type": "code",
   "execution_count": null,
   "outputs": [],
   "source": [
    "interpolated_orientations = interpolant @ coefficients @ orientations\n",
    "interpolated_orientations"
   ],
   "metadata": {
    "collapsed": false
   },
   "id": "2ce842504c948b17"
  },
  {
   "cell_type": "code",
   "execution_count": null,
   "outputs": [],
   "source": [
    "initial_position = np.array([1.0, 0.0, 0.0])\n",
    "initial_position_qua = q.vector_to_quaternion(initial_position)\n",
    "initial_position_qua"
   ],
   "metadata": {
    "collapsed": false
   },
   "id": "7f3ee47d855dd5e4"
  },
  {
   "cell_type": "code",
   "execution_count": null,
   "outputs": [],
   "source": [
    "scale = 100\n",
    "positions = []\n",
    "for i in range(interpolated_orientations.shape[0]):\n",
    "    positions.append(\n",
    "        q.quaternion_to_vector(\n",
    "            q.qvq_inverse(interpolated_orientations[i], \n",
    "                          initial_position_qua)) * scale)\n",
    "positions"
   ],
   "metadata": {
    "collapsed": false
   },
   "id": "cfea613159962fcc"
  },
  {
   "cell_type": "code",
   "execution_count": null,
   "outputs": [],
   "source": [
    "# draw initial position\n",
    "# draw intermediate positions\n",
    "# increase length by 100 times"
   ],
   "metadata": {
    "collapsed": false
   },
   "id": "407d1ed150c92a93"
  },
  {
   "cell_type": "code",
   "execution_count": null,
   "outputs": [],
   "source": [
    "screen_width = 800\n",
    "screen_height = 800\n",
    "center = np.array([50., 300., 300.])\n",
    "vertices, faces = sim.init_cuboid(center, 25, 25, 25)\n",
    "camera_location = np.array([400., 400., -100.])"
   ],
   "metadata": {
    "collapsed": false
   },
   "id": "a019054ece66057b"
  },
  {
   "cell_type": "code",
   "execution_count": null,
   "outputs": [],
   "source": [
    "frames = []\n",
    "\n",
    "for i in range(interpolated_orientations.shape[0]):\n",
    "    frames.append(\n",
    "        q.quaternion_to_vector(\n",
    "            q.qvq_inverse(interpolated_orientations[i], \n",
    "                          q.vector_to_quaternion(vertices - center))) + center)\n",
    "    \n",
    "frames"
   ],
   "metadata": {
    "collapsed": false
   },
   "id": "1ee690d273507e95"
  },
  {
   "cell_type": "code",
   "execution_count": null,
   "outputs": [],
   "source": [
    "shift = np.array([60., 0., 0.])"
   ],
   "metadata": {
    "collapsed": false
   },
   "id": "8f7ac0964eef9669"
  },
  {
   "cell_type": "code",
   "execution_count": null,
   "outputs": [],
   "source": [
    "pygame.init()\n",
    "\n",
    "screen = pygame.display.set_mode((screen_width, screen_height))\n",
    "pygame.display.set_caption('Quaternion Test')\n",
    "\n",
    "screen.fill((255, 255, 255))\n",
    "\n",
    "for i in range(interpolation_count):\n",
    "    sim.draw_wireframe(screen, sim.projection(1, camera_location)(frames[i]  + i * shift), faces, screen_height)\n",
    "\n",
    "# sim.draw_wireframe(screen, sim.projection(1, camera_location)(frames[0]), faces, screen_height)\n",
    "# sim.draw_wireframe(screen, sim.projection(1, camera_location)(frames[1] + shift), faces, screen_height)\n",
    "# sim.draw_wireframe(screen, sim.projection(1, camera_location)(frames[2] + 2 * shift), faces, screen_height)\n",
    "# sim.draw_wireframe(screen, sim.projection(1, camera_location)(frames[3] + 3 * shift), faces, screen_height)\n",
    "\n",
    "pygame.display.update()\n",
    "\n",
    "# while True:\n",
    "#     for event in pygame.event.get():\n",
    "#         if event.type == pygame.QUIT:\n",
    "#             pygame.quit()\n",
    "#             sys.exit(0)\n",
    "# \n",
    "#     sim.render(screen, frames[0], faces, screen_height, sim.projection(0, camera_location))\n",
    "#     sim.render(screen, frames[1], faces, screen_height, sim.projection(0, camera_location))\n",
    "#     sim.render(screen, frames[2], faces, screen_height, sim.projection(0, camera_location))\n",
    "#     sim.render(screen, frames[3], faces, screen_height, sim.projection(0, camera_location))\n",
    "    "
   ],
   "metadata": {
    "collapsed": false
   },
   "id": "c5e84c48fd931018"
  },
  {
   "cell_type": "code",
   "execution_count": null,
   "outputs": [],
   "source": [
    "a = np.random.randint(0, 11, size=(3,3))\n",
    "b = np.random.randint(0, 11, size=(3,3))\n",
    "axes = np.cross(a, b) \n",
    "normalized_axes = axes / np.linalg.norm(axes, axis=-1)\n",
    "angles = np.arccos(np.sum(a * b, axis=-1)  / (np.linalg.norm(a, axis=-1) * np.linalg.norm(b, axis=-1)))\n",
    "\n",
    "a, b, axes, normalized_axes"
   ],
   "metadata": {
    "collapsed": false
   },
   "id": "11096c880c40fe48"
  },
  {
   "cell_type": "code",
   "execution_count": null,
   "outputs": [],
   "source": [
    "np.sum(a * b, axis=-1) "
   ],
   "metadata": {
    "collapsed": false
   },
   "id": "cab591b4bcbaeacb"
  },
  {
   "cell_type": "code",
   "execution_count": null,
   "outputs": [],
   "source": [
    "np.sum(a * b, axis=-1)  / (np.linalg.norm(a, axis=-1) * np.linalg.norm(b, axis=-1))"
   ],
   "metadata": {
    "collapsed": false
   },
   "id": "af06b656a4de2980"
  },
  {
   "cell_type": "code",
   "execution_count": null,
   "outputs": [],
   "source": [
    "for i in range(len(a)):\n",
    "    print(np.dot(a[i], b[i]) / (np.linalg.norm(a[i]) * np.linalg.norm(b[i])))"
   ],
   "metadata": {
    "collapsed": false
   },
   "id": "1056990927972931"
  },
  {
   "cell_type": "code",
   "execution_count": null,
   "outputs": [],
   "source": [
    "np.arccos(np.sum(a * b, axis=-1)  / (np.linalg.norm(a, axis=-1) * np.linalg.norm(b, axis=-1)))"
   ],
   "metadata": {
    "collapsed": false
   },
   "id": "1674c04c267e37"
  },
  {
   "cell_type": "code",
   "execution_count": null,
   "outputs": [],
   "source": [],
   "metadata": {
    "collapsed": false
   },
   "id": "2022c14a6f30a594"
  }
 ],
 "metadata": {
  "kernelspec": {
   "display_name": "Python 3",
   "language": "python",
   "name": "python3"
  },
  "language_info": {
   "codemirror_mode": {
    "name": "ipython",
    "version": 2
   },
   "file_extension": ".py",
   "mimetype": "text/x-python",
   "name": "python",
   "nbconvert_exporter": "python",
   "pygments_lexer": "ipython2",
   "version": "2.7.6"
  }
 },
 "nbformat": 4,
 "nbformat_minor": 5
}
